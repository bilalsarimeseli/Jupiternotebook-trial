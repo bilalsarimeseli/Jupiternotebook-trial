{
  "metadata": {
    "language_info": {
      "codemirror_mode": {
        "name": "python",
        "version": 3
      },
      "file_extension": ".py",
      "mimetype": "text/x-python",
      "name": "python",
      "nbconvert_exporter": "python",
      "pygments_lexer": "ipython3",
      "version": "3.8"
    },
    "kernelspec": {
      "name": "python",
      "display_name": "Python (Pyodide)",
      "language": "python"
    }
  },
  "nbformat_minor": 4,
  "nbformat": 4,
  "cells": [
    {
      "cell_type": "markdown",
      "source": "### **Let's type down some _markdown cell_ with `love`, right?**",
      "metadata": {}
    },
    {
      "cell_type": "markdown",
      "source": "# My Jupyter Notebook on IBM Watson Studio",
      "metadata": {}
    },
    {
      "cell_type": "markdown",
      "source": "**BILAL SARIMESELI** \n-\nI want to work as a data scientist",
      "metadata": {}
    },
    {
      "cell_type": "markdown",
      "source": "*I am interested in Data Science because I want to be taking part in the future that is being shaped by the power of data today.*` ",
      "metadata": {}
    },
    {
      "cell_type": "markdown",
      "source": "### The code below will do some arithmetic",
      "metadata": {}
    },
    {
      "cell_type": "code",
      "source": "print(\"I \" + \" love\" + \" data science \" + str(2+2) + \" learning\")",
      "metadata": {
        "trusted": true
      },
      "execution_count": 6,
      "outputs": [
        {
          "name": "stdout",
          "text": "I  love data science 4 learning\n",
          "output_type": "stream"
        }
      ]
    },
    {
      "cell_type": "markdown",
      "source": "___",
      "metadata": {}
    },
    {
      "cell_type": "markdown",
      "source": "```Before we leave```\n-\n* a\n* b\n* c\n\n1) Good\n2) Bye\n\n~~Just for strikethrough~~\n|abcd|efgh|\n|--- |--- |\n|  a | f  |\n|  b | c  |\n\n\n\n![Image](https://image.jimcdn.com/app/cms/image/transf/dimension=1040x10000:format=png/path/s4d88a36c8ea54d60/image/i301b6ca77a82c12b/version/1481988519/image.png)",
      "metadata": {}
    },
    {
      "cell_type": "code",
      "source": "",
      "metadata": {},
      "execution_count": null,
      "outputs": []
    }
  ]
}